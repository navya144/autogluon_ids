{
 "cells": [
  {
   "cell_type": "code",
   "execution_count": 1,
   "metadata": {},
   "outputs": [],
   "source": [
    "from autogluon.tabular import TabularDataset, TabularPredictor\n",
    "import pandas as pd\n",
    "from sklearn.model_selection import train_test_split\n",
    "import numpy as np\n",
    "from df_helpers import non_persistent_preprocessing, persistent_preprocessing\n",
    "\n"
   ]
  },
  {
   "cell_type": "code",
   "execution_count": 2,
   "metadata": {},
   "outputs": [],
   "source": [
    "benign_malicious_classifier = TabularPredictor.load(path='benign-malicious-classifier')\n",
    "persistent_non_persistent_classifier = TabularPredictor.load(path='persistent-non-persistent-classifier')\n",
    "non_persistent_multiclass_classifier = TabularPredictor.load(path='non-persistent-multiclass-classifier')\n",
    "persistent_multiclass_classifier = TabularPredictor.load(path='persistent-multiclass-classifier')\n"
   ]
  },
  {
   "cell_type": "code",
   "execution_count": 13,
   "metadata": {},
   "outputs": [],
   "source": [
    "def classify_flow(flow):\n",
    "    flow_classification = ''\n",
    "\n",
    "    prediction = benign_malicious_classifier.predict(flow)[0]\n",
    "\n",
    "    if prediction == 'benign':\n",
    "        flow_classification = prediction\n",
    "        # print(flow_classification)\n",
    "\n",
    "    elif prediction == 'malicious':\n",
    "        # print(prediction)\n",
    "        prediction = persistent_non_persistent_classifier.predict(flow)[0]\n",
    "        if prediction == 'persistent':\n",
    "            prediction = persistent_multiclass_classifier.predict(flow)[0]\n",
    "            flow_classification = prediction\n",
    "            # print(flow_classification)\n",
    "        elif prediction == 'non-persistent':\n",
    "            prediction = non_persistent_multiclass_classifier.predict(flow)[0]\n",
    "            flow_classification = prediction\n",
    "            # print(flow_classification)\n",
    "\n",
    "    return flow_classification\n"
   ]
  },
  {
   "cell_type": "markdown",
   "metadata": {},
   "source": [
    "# Import Testing data to test flow classification"
   ]
  },
  {
   "cell_type": "code",
   "execution_count": 14,
   "metadata": {},
   "outputs": [],
   "source": [
    "df_persistent_test = TabularDataset('Testing.csv')\n",
    "df_persistent_test.replace([np.inf, -np.inf], np.nan, inplace=True) \n",
    "df_persistent_test.dropna(inplace=True) \n",
    "\n",
    "df_persistent_test = persistent_preprocessing(df_persistent_test)\n",
    "\n"
   ]
  },
  {
   "cell_type": "code",
   "execution_count": 15,
   "metadata": {},
   "outputs": [
    {
     "name": "stdout",
     "output_type": "stream",
     "text": [
      "benign\n",
      "-----------------\n",
      "Reconnaissance\n"
     ]
    }
   ],
   "source": [
    "# classification = classify_flow(df_persistent_test[:1])\n",
    "malicious = df_persistent_test.loc[df_persistent_test['Label'] == 'Reconnaissance']\n",
    "malicious.reset_index(inplace=True, drop=True)\n",
    "bad = malicious[:1]\n",
    "good = df_persistent_test[:1]\n",
    "classification = classify_flow(good)\n",
    "print(classification)\n",
    "\n",
    "print('-----------------')\n",
    "\n",
    "classification = classify_flow(bad)\n",
    "print(classification)"
   ]
  },
  {
   "cell_type": "code",
   "execution_count": null,
   "metadata": {},
   "outputs": [],
   "source": []
  }
 ],
 "metadata": {
  "kernelspec": {
   "display_name": "ag",
   "language": "python",
   "name": "python3"
  },
  "language_info": {
   "codemirror_mode": {
    "name": "ipython",
    "version": 3
   },
   "file_extension": ".py",
   "mimetype": "text/x-python",
   "name": "python",
   "nbconvert_exporter": "python",
   "pygments_lexer": "ipython3",
   "version": "3.11.8"
  }
 },
 "nbformat": 4,
 "nbformat_minor": 2
}
